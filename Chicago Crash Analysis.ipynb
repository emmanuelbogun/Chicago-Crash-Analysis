{
 "cells": [
  {
   "cell_type": "markdown",
   "id": "federal-rates",
   "metadata": {},
   "source": [
    "## Chicago Traffic Crashes Analysis"
   ]
  },
  {
   "cell_type": "markdown",
   "id": "oriented-excitement",
   "metadata": {},
   "source": [
    "### Read the CSV files containing the Chicago traffic crash data. Identify the column common to both files and merge them together on that column. Then display the total number of reported crashes."
   ]
  },
  {
   "cell_type": "code",
   "execution_count": 1,
   "id": "violent-insulation",
   "metadata": {},
   "outputs": [],
   "source": [
    "import numpy as np\n",
    "import pandas as pd"
   ]
  },
  {
   "cell_type": "markdown",
   "id": "recreational-windows",
   "metadata": {},
   "source": [
    "We can import the contents of the crashes.csv file by calling the read_csv() method and store it in a DataFrame, named df_crash.\n",
    "\n",
    "We then repeat the same action for the crashes_vehicles.csv file, naming it df_vehicles. For the crashes_vehicles.csv file, we drop the ‘CRASH_DATE’ column as it is also included in the other file."
   ]
  },
  {
   "cell_type": "code",
   "execution_count": 2,
   "id": "potential-philosophy",
   "metadata": {},
   "outputs": [],
   "source": [
    "df_crash = pd.read_csv('crashes.csv', low_memory=False)\n",
    "\n",
    "df_vehicles = pd.read_csv('crashes_vehicles.csv', low_memory=False).drop('CRASH_DATE', axis=1)"
   ]
  },
  {
   "cell_type": "markdown",
   "id": "employed-check",
   "metadata": {},
   "source": [
    "To combine the two DataFrames into a single DataFrame, we call the merge() method of pandas. \n",
    "\n",
    "Then, with a call to the reset_index() function we reset the DataFrame index."
   ]
  },
  {
   "cell_type": "code",
   "execution_count": 3,
   "id": "verified-floating",
   "metadata": {},
   "outputs": [],
   "source": [
    "df = pd.merge(df_crash, df_vehicles, on='CRASH_RECORD_ID').reset_index()"
   ]
  },
  {
   "cell_type": "code",
   "execution_count": 4,
   "id": "structural-lawrence",
   "metadata": {},
   "outputs": [
    {
     "data": {
      "text/html": [
       "<div>\n",
       "<style scoped>\n",
       "    .dataframe tbody tr th:only-of-type {\n",
       "        vertical-align: middle;\n",
       "    }\n",
       "\n",
       "    .dataframe tbody tr th {\n",
       "        vertical-align: top;\n",
       "    }\n",
       "\n",
       "    .dataframe thead th {\n",
       "        text-align: right;\n",
       "    }\n",
       "</style>\n",
       "<table border=\"1\" class=\"dataframe\">\n",
       "  <thead>\n",
       "    <tr style=\"text-align: right;\">\n",
       "      <th></th>\n",
       "      <th>index</th>\n",
       "      <th>CRASH_RECORD_ID</th>\n",
       "      <th>CRASH_DATE</th>\n",
       "      <th>WEATHER_CONDITION</th>\n",
       "      <th>LIGHTING_CONDITION</th>\n",
       "      <th>FIRST_CRASH_TYPE</th>\n",
       "      <th>HIT_AND_RUN_I</th>\n",
       "      <th>PRIM_CONTRIBUTORY_CAUSE</th>\n",
       "      <th>LATITUDE</th>\n",
       "      <th>LONGITUDE</th>\n",
       "      <th>VEHICLE_ID</th>\n",
       "      <th>MAKE</th>\n",
       "      <th>LIC_PLATE_STATE</th>\n",
       "      <th>VEHICLE_TYPE</th>\n",
       "    </tr>\n",
       "  </thead>\n",
       "  <tbody>\n",
       "    <tr>\n",
       "      <th>0</th>\n",
       "      <td>0</td>\n",
       "      <td>4fd0a3e0897b3335b94cd8d5b2d2b350eb691add56c62d...</td>\n",
       "      <td>7/10/2019 17:56</td>\n",
       "      <td>CLEAR</td>\n",
       "      <td>DAYLIGHT</td>\n",
       "      <td>TURNING</td>\n",
       "      <td>NaN</td>\n",
       "      <td>IMPROPER BACKING</td>\n",
       "      <td>41.919664</td>\n",
       "      <td>-87.773288</td>\n",
       "      <td>656940.0</td>\n",
       "      <td>GEO</td>\n",
       "      <td>IL</td>\n",
       "      <td>PASSENGER</td>\n",
       "    </tr>\n",
       "    <tr>\n",
       "      <th>1</th>\n",
       "      <td>1</td>\n",
       "      <td>4fd0a3e0897b3335b94cd8d5b2d2b350eb691add56c62d...</td>\n",
       "      <td>7/10/2019 17:56</td>\n",
       "      <td>CLEAR</td>\n",
       "      <td>DAYLIGHT</td>\n",
       "      <td>TURNING</td>\n",
       "      <td>NaN</td>\n",
       "      <td>IMPROPER BACKING</td>\n",
       "      <td>41.919664</td>\n",
       "      <td>-87.773288</td>\n",
       "      <td>656945.0</td>\n",
       "      <td>NISSAN</td>\n",
       "      <td>IL</td>\n",
       "      <td>PASSENGER</td>\n",
       "    </tr>\n",
       "    <tr>\n",
       "      <th>2</th>\n",
       "      <td>2</td>\n",
       "      <td>009e9e67203442370272e1a13d6ee51a4155dac65e583d...</td>\n",
       "      <td>6/30/2017 16:00</td>\n",
       "      <td>CLEAR</td>\n",
       "      <td>DAYLIGHT</td>\n",
       "      <td>TURNING</td>\n",
       "      <td>NaN</td>\n",
       "      <td>FAILING TO YIELD RIGHT-OF-WAY</td>\n",
       "      <td>41.741804</td>\n",
       "      <td>-87.740954</td>\n",
       "      <td>175818.0</td>\n",
       "      <td>NISSAN</td>\n",
       "      <td>IL</td>\n",
       "      <td>SPORT UTILITY VEHICLE (SUV)</td>\n",
       "    </tr>\n",
       "    <tr>\n",
       "      <th>3</th>\n",
       "      <td>3</td>\n",
       "      <td>009e9e67203442370272e1a13d6ee51a4155dac65e583d...</td>\n",
       "      <td>6/30/2017 16:00</td>\n",
       "      <td>CLEAR</td>\n",
       "      <td>DAYLIGHT</td>\n",
       "      <td>TURNING</td>\n",
       "      <td>NaN</td>\n",
       "      <td>FAILING TO YIELD RIGHT-OF-WAY</td>\n",
       "      <td>41.741804</td>\n",
       "      <td>-87.740954</td>\n",
       "      <td>175827.0</td>\n",
       "      <td>TOYOTA MOTOR COMPANY, LTD.</td>\n",
       "      <td>IL</td>\n",
       "      <td>PASSENGER</td>\n",
       "    </tr>\n",
       "    <tr>\n",
       "      <th>4</th>\n",
       "      <td>4</td>\n",
       "      <td>ee9283eff3a55ac50ee58f3d9528ce1d689b1c4180b4c4...</td>\n",
       "      <td>7/10/2020 10:25</td>\n",
       "      <td>CLEAR</td>\n",
       "      <td>DAYLIGHT</td>\n",
       "      <td>REAR END</td>\n",
       "      <td>NaN</td>\n",
       "      <td>FAILING TO YIELD RIGHT-OF-WAY</td>\n",
       "      <td>41.773456</td>\n",
       "      <td>-87.585022</td>\n",
       "      <td>867994.0</td>\n",
       "      <td>TOYOTA</td>\n",
       "      <td>IL</td>\n",
       "      <td>PASSENGER</td>\n",
       "    </tr>\n",
       "  </tbody>\n",
       "</table>\n",
       "</div>"
      ],
      "text/plain": [
       "   index                                    CRASH_RECORD_ID       CRASH_DATE  \\\n",
       "0      0  4fd0a3e0897b3335b94cd8d5b2d2b350eb691add56c62d...  7/10/2019 17:56   \n",
       "1      1  4fd0a3e0897b3335b94cd8d5b2d2b350eb691add56c62d...  7/10/2019 17:56   \n",
       "2      2  009e9e67203442370272e1a13d6ee51a4155dac65e583d...  6/30/2017 16:00   \n",
       "3      3  009e9e67203442370272e1a13d6ee51a4155dac65e583d...  6/30/2017 16:00   \n",
       "4      4  ee9283eff3a55ac50ee58f3d9528ce1d689b1c4180b4c4...  7/10/2020 10:25   \n",
       "\n",
       "  WEATHER_CONDITION LIGHTING_CONDITION FIRST_CRASH_TYPE HIT_AND_RUN_I  \\\n",
       "0             CLEAR           DAYLIGHT          TURNING           NaN   \n",
       "1             CLEAR           DAYLIGHT          TURNING           NaN   \n",
       "2             CLEAR           DAYLIGHT          TURNING           NaN   \n",
       "3             CLEAR           DAYLIGHT          TURNING           NaN   \n",
       "4             CLEAR           DAYLIGHT         REAR END           NaN   \n",
       "\n",
       "         PRIM_CONTRIBUTORY_CAUSE   LATITUDE  LONGITUDE  VEHICLE_ID  \\\n",
       "0               IMPROPER BACKING  41.919664 -87.773288    656940.0   \n",
       "1               IMPROPER BACKING  41.919664 -87.773288    656945.0   \n",
       "2  FAILING TO YIELD RIGHT-OF-WAY  41.741804 -87.740954    175818.0   \n",
       "3  FAILING TO YIELD RIGHT-OF-WAY  41.741804 -87.740954    175827.0   \n",
       "4  FAILING TO YIELD RIGHT-OF-WAY  41.773456 -87.585022    867994.0   \n",
       "\n",
       "                         MAKE LIC_PLATE_STATE                 VEHICLE_TYPE  \n",
       "0                         GEO              IL                    PASSENGER  \n",
       "1                      NISSAN              IL                    PASSENGER  \n",
       "2                      NISSAN              IL  SPORT UTILITY VEHICLE (SUV)  \n",
       "3  TOYOTA MOTOR COMPANY, LTD.              IL                    PASSENGER  \n",
       "4                      TOYOTA              IL                    PASSENGER  "
      ]
     },
     "execution_count": 4,
     "metadata": {},
     "output_type": "execute_result"
    }
   ],
   "source": [
    "df.head()"
   ]
  },
  {
   "cell_type": "code",
   "execution_count": 5,
   "id": "assumed-overall",
   "metadata": {},
   "outputs": [
    {
     "name": "stdout",
     "output_type": "stream",
     "text": [
      "The total number of reported crashes: 474262\n"
     ]
    }
   ],
   "source": [
    "#Total number of reported crashes\n",
    "\n",
    "print('The total number of reported crashes:', df['CRASH_RECORD_ID'].nunique())"
   ]
  },
  {
   "cell_type": "markdown",
   "id": "finnish-helicopter",
   "metadata": {},
   "source": [
    "### Change the ‘CRASH_DATE’ column to a date format. Drop observations that did not occur in 2018, 2019 or 2020 (other years have incomplete data)."
   ]
  },
  {
   "cell_type": "code",
   "execution_count": 6,
   "id": "upset-angel",
   "metadata": {},
   "outputs": [],
   "source": [
    "df['CRASH_DATE'] = pd.to_datetime(df['CRASH_DATE'])\n",
    "df_crash['CRASH_DATE'] = pd.to_datetime(df_crash['CRASH_DATE'])"
   ]
  },
  {
   "cell_type": "code",
   "execution_count": 7,
   "id": "hungarian-terrorism",
   "metadata": {},
   "outputs": [
    {
     "data": {
      "text/html": [
       "<div>\n",
       "<style scoped>\n",
       "    .dataframe tbody tr th:only-of-type {\n",
       "        vertical-align: middle;\n",
       "    }\n",
       "\n",
       "    .dataframe tbody tr th {\n",
       "        vertical-align: top;\n",
       "    }\n",
       "\n",
       "    .dataframe thead th {\n",
       "        text-align: right;\n",
       "    }\n",
       "</style>\n",
       "<table border=\"1\" class=\"dataframe\">\n",
       "  <thead>\n",
       "    <tr style=\"text-align: right;\">\n",
       "      <th></th>\n",
       "      <th>index</th>\n",
       "      <th>CRASH_RECORD_ID</th>\n",
       "      <th>CRASH_DATE</th>\n",
       "      <th>WEATHER_CONDITION</th>\n",
       "      <th>LIGHTING_CONDITION</th>\n",
       "      <th>FIRST_CRASH_TYPE</th>\n",
       "      <th>HIT_AND_RUN_I</th>\n",
       "      <th>PRIM_CONTRIBUTORY_CAUSE</th>\n",
       "      <th>LATITUDE</th>\n",
       "      <th>LONGITUDE</th>\n",
       "      <th>VEHICLE_ID</th>\n",
       "      <th>MAKE</th>\n",
       "      <th>LIC_PLATE_STATE</th>\n",
       "      <th>VEHICLE_TYPE</th>\n",
       "    </tr>\n",
       "  </thead>\n",
       "  <tbody>\n",
       "    <tr>\n",
       "      <th>0</th>\n",
       "      <td>0</td>\n",
       "      <td>4fd0a3e0897b3335b94cd8d5b2d2b350eb691add56c62d...</td>\n",
       "      <td>2019-07-10 17:56:00</td>\n",
       "      <td>CLEAR</td>\n",
       "      <td>DAYLIGHT</td>\n",
       "      <td>TURNING</td>\n",
       "      <td>NaN</td>\n",
       "      <td>IMPROPER BACKING</td>\n",
       "      <td>41.919664</td>\n",
       "      <td>-87.773288</td>\n",
       "      <td>656940.0</td>\n",
       "      <td>GEO</td>\n",
       "      <td>IL</td>\n",
       "      <td>PASSENGER</td>\n",
       "    </tr>\n",
       "    <tr>\n",
       "      <th>1</th>\n",
       "      <td>1</td>\n",
       "      <td>4fd0a3e0897b3335b94cd8d5b2d2b350eb691add56c62d...</td>\n",
       "      <td>2019-07-10 17:56:00</td>\n",
       "      <td>CLEAR</td>\n",
       "      <td>DAYLIGHT</td>\n",
       "      <td>TURNING</td>\n",
       "      <td>NaN</td>\n",
       "      <td>IMPROPER BACKING</td>\n",
       "      <td>41.919664</td>\n",
       "      <td>-87.773288</td>\n",
       "      <td>656945.0</td>\n",
       "      <td>NISSAN</td>\n",
       "      <td>IL</td>\n",
       "      <td>PASSENGER</td>\n",
       "    </tr>\n",
       "    <tr>\n",
       "      <th>2</th>\n",
       "      <td>2</td>\n",
       "      <td>009e9e67203442370272e1a13d6ee51a4155dac65e583d...</td>\n",
       "      <td>2017-06-30 16:00:00</td>\n",
       "      <td>CLEAR</td>\n",
       "      <td>DAYLIGHT</td>\n",
       "      <td>TURNING</td>\n",
       "      <td>NaN</td>\n",
       "      <td>FAILING TO YIELD RIGHT-OF-WAY</td>\n",
       "      <td>41.741804</td>\n",
       "      <td>-87.740954</td>\n",
       "      <td>175818.0</td>\n",
       "      <td>NISSAN</td>\n",
       "      <td>IL</td>\n",
       "      <td>SPORT UTILITY VEHICLE (SUV)</td>\n",
       "    </tr>\n",
       "    <tr>\n",
       "      <th>3</th>\n",
       "      <td>3</td>\n",
       "      <td>009e9e67203442370272e1a13d6ee51a4155dac65e583d...</td>\n",
       "      <td>2017-06-30 16:00:00</td>\n",
       "      <td>CLEAR</td>\n",
       "      <td>DAYLIGHT</td>\n",
       "      <td>TURNING</td>\n",
       "      <td>NaN</td>\n",
       "      <td>FAILING TO YIELD RIGHT-OF-WAY</td>\n",
       "      <td>41.741804</td>\n",
       "      <td>-87.740954</td>\n",
       "      <td>175827.0</td>\n",
       "      <td>TOYOTA MOTOR COMPANY, LTD.</td>\n",
       "      <td>IL</td>\n",
       "      <td>PASSENGER</td>\n",
       "    </tr>\n",
       "    <tr>\n",
       "      <th>4</th>\n",
       "      <td>4</td>\n",
       "      <td>ee9283eff3a55ac50ee58f3d9528ce1d689b1c4180b4c4...</td>\n",
       "      <td>2020-07-10 10:25:00</td>\n",
       "      <td>CLEAR</td>\n",
       "      <td>DAYLIGHT</td>\n",
       "      <td>REAR END</td>\n",
       "      <td>NaN</td>\n",
       "      <td>FAILING TO YIELD RIGHT-OF-WAY</td>\n",
       "      <td>41.773456</td>\n",
       "      <td>-87.585022</td>\n",
       "      <td>867994.0</td>\n",
       "      <td>TOYOTA</td>\n",
       "      <td>IL</td>\n",
       "      <td>PASSENGER</td>\n",
       "    </tr>\n",
       "  </tbody>\n",
       "</table>\n",
       "</div>"
      ],
      "text/plain": [
       "   index                                    CRASH_RECORD_ID  \\\n",
       "0      0  4fd0a3e0897b3335b94cd8d5b2d2b350eb691add56c62d...   \n",
       "1      1  4fd0a3e0897b3335b94cd8d5b2d2b350eb691add56c62d...   \n",
       "2      2  009e9e67203442370272e1a13d6ee51a4155dac65e583d...   \n",
       "3      3  009e9e67203442370272e1a13d6ee51a4155dac65e583d...   \n",
       "4      4  ee9283eff3a55ac50ee58f3d9528ce1d689b1c4180b4c4...   \n",
       "\n",
       "           CRASH_DATE WEATHER_CONDITION LIGHTING_CONDITION FIRST_CRASH_TYPE  \\\n",
       "0 2019-07-10 17:56:00             CLEAR           DAYLIGHT          TURNING   \n",
       "1 2019-07-10 17:56:00             CLEAR           DAYLIGHT          TURNING   \n",
       "2 2017-06-30 16:00:00             CLEAR           DAYLIGHT          TURNING   \n",
       "3 2017-06-30 16:00:00             CLEAR           DAYLIGHT          TURNING   \n",
       "4 2020-07-10 10:25:00             CLEAR           DAYLIGHT         REAR END   \n",
       "\n",
       "  HIT_AND_RUN_I        PRIM_CONTRIBUTORY_CAUSE   LATITUDE  LONGITUDE  \\\n",
       "0           NaN               IMPROPER BACKING  41.919664 -87.773288   \n",
       "1           NaN               IMPROPER BACKING  41.919664 -87.773288   \n",
       "2           NaN  FAILING TO YIELD RIGHT-OF-WAY  41.741804 -87.740954   \n",
       "3           NaN  FAILING TO YIELD RIGHT-OF-WAY  41.741804 -87.740954   \n",
       "4           NaN  FAILING TO YIELD RIGHT-OF-WAY  41.773456 -87.585022   \n",
       "\n",
       "   VEHICLE_ID                        MAKE LIC_PLATE_STATE  \\\n",
       "0    656940.0                         GEO              IL   \n",
       "1    656945.0                      NISSAN              IL   \n",
       "2    175818.0                      NISSAN              IL   \n",
       "3    175827.0  TOYOTA MOTOR COMPANY, LTD.              IL   \n",
       "4    867994.0                      TOYOTA              IL   \n",
       "\n",
       "                  VEHICLE_TYPE  \n",
       "0                    PASSENGER  \n",
       "1                    PASSENGER  \n",
       "2  SPORT UTILITY VEHICLE (SUV)  \n",
       "3                    PASSENGER  \n",
       "4                    PASSENGER  "
      ]
     },
     "execution_count": 7,
     "metadata": {},
     "output_type": "execute_result"
    }
   ],
   "source": [
    "df.head()"
   ]
  },
  {
   "cell_type": "code",
   "execution_count": 8,
   "id": "independent-forum",
   "metadata": {},
   "outputs": [
    {
     "data": {
      "text/html": [
       "<div>\n",
       "<style scoped>\n",
       "    .dataframe tbody tr th:only-of-type {\n",
       "        vertical-align: middle;\n",
       "    }\n",
       "\n",
       "    .dataframe tbody tr th {\n",
       "        vertical-align: top;\n",
       "    }\n",
       "\n",
       "    .dataframe thead th {\n",
       "        text-align: right;\n",
       "    }\n",
       "</style>\n",
       "<table border=\"1\" class=\"dataframe\">\n",
       "  <thead>\n",
       "    <tr style=\"text-align: right;\">\n",
       "      <th></th>\n",
       "      <th>CRASH_RECORD_ID</th>\n",
       "      <th>CRASH_DATE</th>\n",
       "      <th>WEATHER_CONDITION</th>\n",
       "      <th>LIGHTING_CONDITION</th>\n",
       "      <th>FIRST_CRASH_TYPE</th>\n",
       "      <th>HIT_AND_RUN_I</th>\n",
       "      <th>PRIM_CONTRIBUTORY_CAUSE</th>\n",
       "      <th>LATITUDE</th>\n",
       "      <th>LONGITUDE</th>\n",
       "    </tr>\n",
       "  </thead>\n",
       "  <tbody>\n",
       "    <tr>\n",
       "      <th>0</th>\n",
       "      <td>4fd0a3e0897b3335b94cd8d5b2d2b350eb691add56c62d...</td>\n",
       "      <td>2019-07-10 17:56:00</td>\n",
       "      <td>CLEAR</td>\n",
       "      <td>DAYLIGHT</td>\n",
       "      <td>TURNING</td>\n",
       "      <td>NaN</td>\n",
       "      <td>IMPROPER BACKING</td>\n",
       "      <td>41.919664</td>\n",
       "      <td>-87.773288</td>\n",
       "    </tr>\n",
       "    <tr>\n",
       "      <th>1</th>\n",
       "      <td>009e9e67203442370272e1a13d6ee51a4155dac65e583d...</td>\n",
       "      <td>2017-06-30 16:00:00</td>\n",
       "      <td>CLEAR</td>\n",
       "      <td>DAYLIGHT</td>\n",
       "      <td>TURNING</td>\n",
       "      <td>NaN</td>\n",
       "      <td>FAILING TO YIELD RIGHT-OF-WAY</td>\n",
       "      <td>41.741804</td>\n",
       "      <td>-87.740954</td>\n",
       "    </tr>\n",
       "    <tr>\n",
       "      <th>2</th>\n",
       "      <td>ee9283eff3a55ac50ee58f3d9528ce1d689b1c4180b4c4...</td>\n",
       "      <td>2020-07-10 10:25:00</td>\n",
       "      <td>CLEAR</td>\n",
       "      <td>DAYLIGHT</td>\n",
       "      <td>REAR END</td>\n",
       "      <td>NaN</td>\n",
       "      <td>FAILING TO YIELD RIGHT-OF-WAY</td>\n",
       "      <td>41.773456</td>\n",
       "      <td>-87.585022</td>\n",
       "    </tr>\n",
       "    <tr>\n",
       "      <th>3</th>\n",
       "      <td>f8960f698e870ebdc60b521b2a141a5395556bc3704191...</td>\n",
       "      <td>2020-07-11 01:00:00</td>\n",
       "      <td>CLEAR</td>\n",
       "      <td>DARKNESS</td>\n",
       "      <td>PARKED MOTOR VEHICLE</td>\n",
       "      <td>Y</td>\n",
       "      <td>UNABLE TO DETERMINE</td>\n",
       "      <td>41.802119</td>\n",
       "      <td>-87.622115</td>\n",
       "    </tr>\n",
       "    <tr>\n",
       "      <th>4</th>\n",
       "      <td>8eaa2678d1a127804ee9b8c35ddf7d63d913c14eda61d6...</td>\n",
       "      <td>2020-07-08 14:00:00</td>\n",
       "      <td>CLEAR</td>\n",
       "      <td>DAYLIGHT</td>\n",
       "      <td>PARKED MOTOR VEHICLE</td>\n",
       "      <td>NaN</td>\n",
       "      <td>UNABLE TO DETERMINE</td>\n",
       "      <td>NaN</td>\n",
       "      <td>NaN</td>\n",
       "    </tr>\n",
       "  </tbody>\n",
       "</table>\n",
       "</div>"
      ],
      "text/plain": [
       "                                     CRASH_RECORD_ID          CRASH_DATE  \\\n",
       "0  4fd0a3e0897b3335b94cd8d5b2d2b350eb691add56c62d... 2019-07-10 17:56:00   \n",
       "1  009e9e67203442370272e1a13d6ee51a4155dac65e583d... 2017-06-30 16:00:00   \n",
       "2  ee9283eff3a55ac50ee58f3d9528ce1d689b1c4180b4c4... 2020-07-10 10:25:00   \n",
       "3  f8960f698e870ebdc60b521b2a141a5395556bc3704191... 2020-07-11 01:00:00   \n",
       "4  8eaa2678d1a127804ee9b8c35ddf7d63d913c14eda61d6... 2020-07-08 14:00:00   \n",
       "\n",
       "  WEATHER_CONDITION LIGHTING_CONDITION      FIRST_CRASH_TYPE HIT_AND_RUN_I  \\\n",
       "0             CLEAR           DAYLIGHT               TURNING           NaN   \n",
       "1             CLEAR           DAYLIGHT               TURNING           NaN   \n",
       "2             CLEAR           DAYLIGHT              REAR END           NaN   \n",
       "3             CLEAR           DARKNESS  PARKED MOTOR VEHICLE             Y   \n",
       "4             CLEAR           DAYLIGHT  PARKED MOTOR VEHICLE           NaN   \n",
       "\n",
       "         PRIM_CONTRIBUTORY_CAUSE   LATITUDE  LONGITUDE  \n",
       "0               IMPROPER BACKING  41.919664 -87.773288  \n",
       "1  FAILING TO YIELD RIGHT-OF-WAY  41.741804 -87.740954  \n",
       "2  FAILING TO YIELD RIGHT-OF-WAY  41.773456 -87.585022  \n",
       "3            UNABLE TO DETERMINE  41.802119 -87.622115  \n",
       "4            UNABLE TO DETERMINE        NaN        NaN  "
      ]
     },
     "execution_count": 8,
     "metadata": {},
     "output_type": "execute_result"
    }
   ],
   "source": [
    "df_crash.head()"
   ]
  },
  {
   "cell_type": "code",
   "execution_count": 9,
   "id": "requested-genetics",
   "metadata": {},
   "outputs": [],
   "source": [
    "df = df[(df['CRASH_DATE'] >= '2018-01-01') & (df['CRASH_DATE'] <= '2020-12-31')]"
   ]
  },
  {
   "cell_type": "code",
   "execution_count": 10,
   "id": "affiliated-mercy",
   "metadata": {},
   "outputs": [],
   "source": [
    "df_crash = df_crash[(df_crash['CRASH_DATE'] >= '2018-01-01') & (df_crash['CRASH_DATE'] <= '2020-12-31')]"
   ]
  },
  {
   "cell_type": "markdown",
   "id": "african-vaccine",
   "metadata": {},
   "source": [
    "### Display plot showing the number of crashes that occur for each hour of the day"
   ]
  },
  {
   "cell_type": "code",
   "execution_count": 11,
   "id": "coordinated-perfume",
   "metadata": {},
   "outputs": [],
   "source": [
    "#importing the necessary modules\n",
    "\n",
    "import numpy as np\n",
    "import matplotlib.pyplot as plt\n",
    "import seaborn as sns"
   ]
  },
  {
   "cell_type": "code",
   "execution_count": 12,
   "id": "committed-symphony",
   "metadata": {},
   "outputs": [],
   "source": [
    "#Setting the 'Hour' column\n",
    "\n",
    "df['Hour'] = df['CRASH_DATE'].dt.hour"
   ]
  },
  {
   "cell_type": "code",
   "execution_count": 37,
   "id": "clean-liechtenstein",
   "metadata": {},
   "outputs": [
    {
     "data": {
      "image/png": "[encoded data removed]",
      "text/plain": [
       "<Figure size 1080x576 with 1 Axes>"
      ]
     },
     "metadata": {},
     "output_type": "display_data"
    }
   ],
   "source": [
    "sns.set_style('darkgrid')\n",
    "\n",
    "plt.figure(figsize=(15,8))\n",
    "\n",
    "s = sns.barplot(\n",
    "    data=df.groupby('Hour')['CRASH_RECORD_ID'].nunique().reset_index(), x='Hour', y='CRASH_RECORD_ID')\n",
    "\n",
    "s.set_title('Number of crashes that occur hourly in Chicago (2018 - 2020)')\n",
    "s.set_xlabel('Hour of the day')\n",
    "s.set_ylabel('Number of crashes')\n",
    "plt.show\n",
    "plt.savefig('Hourly.png')"
   ]
  },
  {
   "cell_type": "markdown",
   "id": "solid-parish",
   "metadata": {},
   "source": [
    "### Name the make of vehicle that was involved in the most daylight crashes in August 2018. Remember that a crash can involve multiple vehicles."
   ]
  },
  {
   "cell_type": "code",
   "execution_count": 14,
   "id": "previous-retrieval",
   "metadata": {},
   "outputs": [
    {
     "data": {
      "text/html": [
       "<div>\n",
       "<style scoped>\n",
       "    .dataframe tbody tr th:only-of-type {\n",
       "        vertical-align: middle;\n",
       "    }\n",
       "\n",
       "    .dataframe tbody tr th {\n",
       "        vertical-align: top;\n",
       "    }\n",
       "\n",
       "    .dataframe thead th {\n",
       "        text-align: right;\n",
       "    }\n",
       "</style>\n",
       "<table border=\"1\" class=\"dataframe\">\n",
       "  <thead>\n",
       "    <tr style=\"text-align: right;\">\n",
       "      <th></th>\n",
       "      <th>index</th>\n",
       "      <th>CRASH_RECORD_ID</th>\n",
       "      <th>CRASH_DATE</th>\n",
       "      <th>WEATHER_CONDITION</th>\n",
       "      <th>LIGHTING_CONDITION</th>\n",
       "      <th>FIRST_CRASH_TYPE</th>\n",
       "      <th>HIT_AND_RUN_I</th>\n",
       "      <th>PRIM_CONTRIBUTORY_CAUSE</th>\n",
       "      <th>LATITUDE</th>\n",
       "      <th>LONGITUDE</th>\n",
       "      <th>VEHICLE_ID</th>\n",
       "      <th>MAKE</th>\n",
       "      <th>LIC_PLATE_STATE</th>\n",
       "      <th>VEHICLE_TYPE</th>\n",
       "      <th>Hour</th>\n",
       "    </tr>\n",
       "  </thead>\n",
       "  <tbody>\n",
       "    <tr>\n",
       "      <th>0</th>\n",
       "      <td>0</td>\n",
       "      <td>4fd0a3e0897b3335b94cd8d5b2d2b350eb691add56c62d...</td>\n",
       "      <td>2019-07-10 17:56:00</td>\n",
       "      <td>CLEAR</td>\n",
       "      <td>DAYLIGHT</td>\n",
       "      <td>TURNING</td>\n",
       "      <td>NaN</td>\n",
       "      <td>IMPROPER BACKING</td>\n",
       "      <td>41.919664</td>\n",
       "      <td>-87.773288</td>\n",
       "      <td>656940.0</td>\n",
       "      <td>GEO</td>\n",
       "      <td>IL</td>\n",
       "      <td>PASSENGER</td>\n",
       "      <td>17</td>\n",
       "    </tr>\n",
       "    <tr>\n",
       "      <th>1</th>\n",
       "      <td>1</td>\n",
       "      <td>4fd0a3e0897b3335b94cd8d5b2d2b350eb691add56c62d...</td>\n",
       "      <td>2019-07-10 17:56:00</td>\n",
       "      <td>CLEAR</td>\n",
       "      <td>DAYLIGHT</td>\n",
       "      <td>TURNING</td>\n",
       "      <td>NaN</td>\n",
       "      <td>IMPROPER BACKING</td>\n",
       "      <td>41.919664</td>\n",
       "      <td>-87.773288</td>\n",
       "      <td>656945.0</td>\n",
       "      <td>NISSAN</td>\n",
       "      <td>IL</td>\n",
       "      <td>PASSENGER</td>\n",
       "      <td>17</td>\n",
       "    </tr>\n",
       "  </tbody>\n",
       "</table>\n",
       "</div>"
      ],
      "text/plain": [
       "   index                                    CRASH_RECORD_ID  \\\n",
       "0      0  4fd0a3e0897b3335b94cd8d5b2d2b350eb691add56c62d...   \n",
       "1      1  4fd0a3e0897b3335b94cd8d5b2d2b350eb691add56c62d...   \n",
       "\n",
       "           CRASH_DATE WEATHER_CONDITION LIGHTING_CONDITION FIRST_CRASH_TYPE  \\\n",
       "0 2019-07-10 17:56:00             CLEAR           DAYLIGHT          TURNING   \n",
       "1 2019-07-10 17:56:00             CLEAR           DAYLIGHT          TURNING   \n",
       "\n",
       "  HIT_AND_RUN_I PRIM_CONTRIBUTORY_CAUSE   LATITUDE  LONGITUDE  VEHICLE_ID  \\\n",
       "0           NaN        IMPROPER BACKING  41.919664 -87.773288    656940.0   \n",
       "1           NaN        IMPROPER BACKING  41.919664 -87.773288    656945.0   \n",
       "\n",
       "     MAKE LIC_PLATE_STATE VEHICLE_TYPE  Hour  \n",
       "0     GEO              IL    PASSENGER    17  \n",
       "1  NISSAN              IL    PASSENGER    17  "
      ]
     },
     "execution_count": 14,
     "metadata": {},
     "output_type": "execute_result"
    }
   ],
   "source": [
    "df.head(2)"
   ]
  },
  {
   "cell_type": "code",
   "execution_count": 15,
   "id": "convertible-maximum",
   "metadata": {},
   "outputs": [],
   "source": [
    "#Subsetting the dataframe's LIGHTING_CONDITION to DAYLIGHT\n",
    "\n",
    "df_day = df[df['LIGHTING_CONDITION'] == 'DAYLIGHT']"
   ]
  },
  {
   "cell_type": "code",
   "execution_count": 17,
   "id": "demographic-brave",
   "metadata": {},
   "outputs": [
    {
     "data": {
      "text/plain": [
       "CHEVROLET    49779\n",
       "Name: MAKE, dtype: int64"
      ]
     },
     "execution_count": 17,
     "metadata": {},
     "output_type": "execute_result"
    }
   ],
   "source": [
    "# Make of car involved in most accident during the day\n",
    "\n",
    "df_day['MAKE'].value_counts().nlargest(1)"
   ]
  },
  {
   "cell_type": "markdown",
   "id": "apparent-interaction",
   "metadata": {},
   "source": [
    "### Determine which weather condition was most prevalent for each type of crash."
   ]
  },
  {
   "cell_type": "markdown",
   "id": "featured-antique",
   "metadata": {},
   "source": [
    "The lambda function below calls the value_counts() method on each group (crash type) and counts the number of instances of each weather condition per group, in descending order"
   ]
  },
  {
   "cell_type": "code",
   "execution_count": 20,
   "id": "robust-sociology",
   "metadata": {},
   "outputs": [
    {
     "name": "stdout",
     "output_type": "stream",
     "text": [
      "FIRST_CRASH_TYPE                        \n",
      "ANGLE             CLEAR                     27838\n",
      "                  RAIN                       3626\n",
      "                  SNOW                       1350\n",
      "                  CLOUDY/OVERCAST            1262\n",
      "                  UNKNOWN                     657\n",
      "                                            ...  \n",
      "TURNING           FOG/SMOKE/HAZE               93\n",
      "                  SLEET/HAIL                   78\n",
      "                  FREEZING RAIN/DRIZZLE        78\n",
      "                  BLOWING SNOW                  9\n",
      "                  SEVERE CROSS WIND GATE        2\n",
      "Name: WEATHER_CONDITION, Length: 167, dtype: int64\n"
     ]
    }
   ],
   "source": [
    "df_weather = df_crash.groupby('FIRST_CRASH_TYPE')['WEATHER_CONDITION'].apply(lambda x: x.value_counts())\n",
    "\n",
    "print(df_weather)"
   ]
  },
  {
   "cell_type": "code",
   "execution_count": 29,
   "id": "labeled-bikini",
   "metadata": {},
   "outputs": [
    {
     "data": {
      "text/html": [
       "<div>\n",
       "<style scoped>\n",
       "    .dataframe tbody tr th:only-of-type {\n",
       "        vertical-align: middle;\n",
       "    }\n",
       "\n",
       "    .dataframe tbody tr th {\n",
       "        vertical-align: top;\n",
       "    }\n",
       "\n",
       "    .dataframe thead th {\n",
       "        text-align: right;\n",
       "    }\n",
       "</style>\n",
       "<table border=\"1\" class=\"dataframe\">\n",
       "  <thead>\n",
       "    <tr style=\"text-align: right;\">\n",
       "      <th></th>\n",
       "      <th>FIRST_CRASH_TYPE</th>\n",
       "      <th>WEATHER</th>\n",
       "      <th>COUNT</th>\n",
       "    </tr>\n",
       "  </thead>\n",
       "  <tbody>\n",
       "    <tr>\n",
       "      <th>0</th>\n",
       "      <td>ANGLE</td>\n",
       "      <td>CLEAR</td>\n",
       "      <td>27838</td>\n",
       "    </tr>\n",
       "    <tr>\n",
       "      <th>1</th>\n",
       "      <td>ANGLE</td>\n",
       "      <td>RAIN</td>\n",
       "      <td>3626</td>\n",
       "    </tr>\n",
       "    <tr>\n",
       "      <th>2</th>\n",
       "      <td>ANGLE</td>\n",
       "      <td>SNOW</td>\n",
       "      <td>1350</td>\n",
       "    </tr>\n",
       "    <tr>\n",
       "      <th>3</th>\n",
       "      <td>ANGLE</td>\n",
       "      <td>CLOUDY/OVERCAST</td>\n",
       "      <td>1262</td>\n",
       "    </tr>\n",
       "    <tr>\n",
       "      <th>4</th>\n",
       "      <td>ANGLE</td>\n",
       "      <td>UNKNOWN</td>\n",
       "      <td>657</td>\n",
       "    </tr>\n",
       "  </tbody>\n",
       "</table>\n",
       "</div>"
      ],
      "text/plain": [
       "  FIRST_CRASH_TYPE          WEATHER  COUNT\n",
       "0            ANGLE            CLEAR  27838\n",
       "1            ANGLE             RAIN   3626\n",
       "2            ANGLE             SNOW   1350\n",
       "3            ANGLE  CLOUDY/OVERCAST   1262\n",
       "4            ANGLE          UNKNOWN    657"
      ]
     },
     "execution_count": 29,
     "metadata": {},
     "output_type": "execute_result"
    }
   ],
   "source": [
    "# to get the weather that is most prevalent:\n",
    "\n",
    "df_weather.reset_index(name='COUNT').rename(columns={'level_1':'WEATHER'}).head()"
   ]
  },
  {
   "cell_type": "markdown",
   "id": "narrow-creativity",
   "metadata": {},
   "source": [
    "The call to the head() method then gives us the top weather condition for each crash type group.\n",
    "\n",
    "The reset_index() method to reset the DataFrame index to the original one. We use it here to present the results in a more elegant manner. We pass the name parameter of ‘COUNT’ to name the column containing the count values.\n",
    "\n",
    "Finally, we call the rename() method to rename the level_1 column as WEATHER, to make the output more readable."
   ]
  },
  {
   "cell_type": "code",
   "execution_count": null,
   "id": "swiss-refrigerator",
   "metadata": {},
   "outputs": [],
   "source": []
  },
  {
   "cell_type": "markdown",
   "id": "ranking-above",
   "metadata": {},
   "source": [
    "### Plot the primary contributing cause of reported crashes, from highest to lowest."
   ]
  },
  {
   "cell_type": "code",
   "execution_count": 31,
   "id": "stainless-latter",
   "metadata": {},
   "outputs": [
    {
     "data": {
      "text/html": [
       "<div>\n",
       "<style scoped>\n",
       "    .dataframe tbody tr th:only-of-type {\n",
       "        vertical-align: middle;\n",
       "    }\n",
       "\n",
       "    .dataframe tbody tr th {\n",
       "        vertical-align: top;\n",
       "    }\n",
       "\n",
       "    .dataframe thead th {\n",
       "        text-align: right;\n",
       "    }\n",
       "</style>\n",
       "<table border=\"1\" class=\"dataframe\">\n",
       "  <thead>\n",
       "    <tr style=\"text-align: right;\">\n",
       "      <th></th>\n",
       "      <th>CRASH_RECORD_ID</th>\n",
       "      <th>CRASH_DATE</th>\n",
       "      <th>WEATHER_CONDITION</th>\n",
       "      <th>LIGHTING_CONDITION</th>\n",
       "      <th>FIRST_CRASH_TYPE</th>\n",
       "      <th>HIT_AND_RUN_I</th>\n",
       "      <th>PRIM_CONTRIBUTORY_CAUSE</th>\n",
       "      <th>LATITUDE</th>\n",
       "      <th>LONGITUDE</th>\n",
       "    </tr>\n",
       "  </thead>\n",
       "  <tbody>\n",
       "    <tr>\n",
       "      <th>0</th>\n",
       "      <td>4fd0a3e0897b3335b94cd8d5b2d2b350eb691add56c62d...</td>\n",
       "      <td>2019-07-10 17:56:00</td>\n",
       "      <td>CLEAR</td>\n",
       "      <td>DAYLIGHT</td>\n",
       "      <td>TURNING</td>\n",
       "      <td>NaN</td>\n",
       "      <td>IMPROPER BACKING</td>\n",
       "      <td>41.919664</td>\n",
       "      <td>-87.773288</td>\n",
       "    </tr>\n",
       "    <tr>\n",
       "      <th>2</th>\n",
       "      <td>ee9283eff3a55ac50ee58f3d9528ce1d689b1c4180b4c4...</td>\n",
       "      <td>2020-07-10 10:25:00</td>\n",
       "      <td>CLEAR</td>\n",
       "      <td>DAYLIGHT</td>\n",
       "      <td>REAR END</td>\n",
       "      <td>NaN</td>\n",
       "      <td>FAILING TO YIELD RIGHT-OF-WAY</td>\n",
       "      <td>41.773456</td>\n",
       "      <td>-87.585022</td>\n",
       "    </tr>\n",
       "  </tbody>\n",
       "</table>\n",
       "</div>"
      ],
      "text/plain": [
       "                                     CRASH_RECORD_ID          CRASH_DATE  \\\n",
       "0  4fd0a3e0897b3335b94cd8d5b2d2b350eb691add56c62d... 2019-07-10 17:56:00   \n",
       "2  ee9283eff3a55ac50ee58f3d9528ce1d689b1c4180b4c4... 2020-07-10 10:25:00   \n",
       "\n",
       "  WEATHER_CONDITION LIGHTING_CONDITION FIRST_CRASH_TYPE HIT_AND_RUN_I  \\\n",
       "0             CLEAR           DAYLIGHT          TURNING           NaN   \n",
       "2             CLEAR           DAYLIGHT         REAR END           NaN   \n",
       "\n",
       "         PRIM_CONTRIBUTORY_CAUSE   LATITUDE  LONGITUDE  \n",
       "0               IMPROPER BACKING  41.919664 -87.773288  \n",
       "2  FAILING TO YIELD RIGHT-OF-WAY  41.773456 -87.585022  "
      ]
     },
     "execution_count": 31,
     "metadata": {},
     "output_type": "execute_result"
    }
   ],
   "source": [
    "df_crash.head(2)"
   ]
  },
  {
   "cell_type": "code",
   "execution_count": 36,
   "id": "limited-revolution",
   "metadata": {},
   "outputs": [
    {
     "data": {
      "image/png": "[encoded data removed]",
      "text/plain": [
       "<Figure size 1080x1080 with 1 Axes>"
      ]
     },
     "metadata": {},
     "output_type": "display_data"
    },
    {
     "data": {
      "text/plain": [
       "<Figure size 432x288 with 0 Axes>"
      ]
     },
     "metadata": {},
     "output_type": "display_data"
    }
   ],
   "source": [
    "plt.figure(figsize=(15, 15))\n",
    "sns.countplot(data=df_crash,  y='PRIM_CONTRIBUTORY_CAUSE', order = df_crash['PRIM_CONTRIBUTORY_CAUSE'].value_counts().index)\n",
    "plt.title('Primary Contributing Cause of Reported Crashes in Chicago (2018 - 2020) ', y=1.01, fontsize=14)\n",
    "plt.xlabel('Number of Crashes', fontsize=13, labelpad=15)\n",
    "plt.ylabel('Primary Contributing Cause', fontsize=13, labelpad=15)\n",
    "plt.show()\n",
    "plt.savefig('PCC_Chicago.png')"
   ]
  },
  {
   "cell_type": "markdown",
   "id": "reliable-royal",
   "metadata": {},
   "source": [
    "### Display the 10 state license plates involved in the most crashes. Remember that a crash can involve multiple vehicles."
   ]
  },
  {
   "cell_type": "code",
   "execution_count": 38,
   "id": "otherwise-metro",
   "metadata": {},
   "outputs": [
    {
     "data": {
      "text/html": [
       "<div>\n",
       "<style scoped>\n",
       "    .dataframe tbody tr th:only-of-type {\n",
       "        vertical-align: middle;\n",
       "    }\n",
       "\n",
       "    .dataframe tbody tr th {\n",
       "        vertical-align: top;\n",
       "    }\n",
       "\n",
       "    .dataframe thead th {\n",
       "        text-align: right;\n",
       "    }\n",
       "</style>\n",
       "<table border=\"1\" class=\"dataframe\">\n",
       "  <thead>\n",
       "    <tr style=\"text-align: right;\">\n",
       "      <th></th>\n",
       "      <th>LIC_PLATE_STATE</th>\n",
       "      <th>COUNT</th>\n",
       "    </tr>\n",
       "  </thead>\n",
       "  <tbody>\n",
       "    <tr>\n",
       "      <th>0</th>\n",
       "      <td>IL</td>\n",
       "      <td>550630</td>\n",
       "    </tr>\n",
       "    <tr>\n",
       "      <th>1</th>\n",
       "      <td>XX</td>\n",
       "      <td>12128</td>\n",
       "    </tr>\n",
       "    <tr>\n",
       "      <th>2</th>\n",
       "      <td>IN</td>\n",
       "      <td>11914</td>\n",
       "    </tr>\n",
       "    <tr>\n",
       "      <th>3</th>\n",
       "      <td>WI</td>\n",
       "      <td>3793</td>\n",
       "    </tr>\n",
       "    <tr>\n",
       "      <th>4</th>\n",
       "      <td>MI</td>\n",
       "      <td>2554</td>\n",
       "    </tr>\n",
       "    <tr>\n",
       "      <th>5</th>\n",
       "      <td>FL</td>\n",
       "      <td>1802</td>\n",
       "    </tr>\n",
       "    <tr>\n",
       "      <th>6</th>\n",
       "      <td>TX</td>\n",
       "      <td>1739</td>\n",
       "    </tr>\n",
       "    <tr>\n",
       "      <th>7</th>\n",
       "      <td>OH</td>\n",
       "      <td>1516</td>\n",
       "    </tr>\n",
       "    <tr>\n",
       "      <th>8</th>\n",
       "      <td>AZ</td>\n",
       "      <td>1333</td>\n",
       "    </tr>\n",
       "    <tr>\n",
       "      <th>9</th>\n",
       "      <td>IA</td>\n",
       "      <td>1121</td>\n",
       "    </tr>\n",
       "  </tbody>\n",
       "</table>\n",
       "</div>"
      ],
      "text/plain": [
       "  LIC_PLATE_STATE   COUNT\n",
       "0              IL  550630\n",
       "1              XX   12128\n",
       "2              IN   11914\n",
       "3              WI    3793\n",
       "4              MI    2554\n",
       "5              FL    1802\n",
       "6              TX    1739\n",
       "7              OH    1516\n",
       "8              AZ    1333\n",
       "9              IA    1121"
      ]
     },
     "execution_count": 38,
     "metadata": {},
     "output_type": "execute_result"
    }
   ],
   "source": [
    "df.groupby('LIC_PLATE_STATE')['VEHICLE_ID'].count().nlargest(10).reset_index(name='COUNT')"
   ]
  },
  {
   "cell_type": "code",
   "execution_count": null,
   "id": "manufactured-expert",
   "metadata": {},
   "outputs": [],
   "source": []
  }
 ],
 "metadata": {
  "kernelspec": {
   "display_name": "Python 3",
   "language": "python",
   "name": "python3"
  },
  "language_info": {
   "codemirror_mode": {
    "name": "ipython",
    "version": 3
   },
   "file_extension": ".py",
   "mimetype": "text/x-python",
   "name": "python",
   "nbconvert_exporter": "python",
   "pygments_lexer": "ipython3",
   "version": "3.9.1"
  }
 },
 "nbformat": 4,
 "nbformat_minor": 5
}
